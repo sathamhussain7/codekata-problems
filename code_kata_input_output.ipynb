{
  "nbformat": 4,
  "nbformat_minor": 0,
  "metadata": {
    "colab": {
      "provenance": [],
      "authorship_tag": "ABX9TyPdbiIhOgw/N3WuODcWHHvA",
      "include_colab_link": true
    },
    "kernelspec": {
      "name": "python3",
      "display_name": "Python 3"
    },
    "language_info": {
      "name": "python"
    }
  },
  "cells": [
    {
      "cell_type": "markdown",
      "metadata": {
        "id": "view-in-github",
        "colab_type": "text"
      },
      "source": [
        "<a href=\"https://colab.research.google.com/github/sathamhussain7/codekata-problems/blob/main/code_kata_input_output.ipynb\" target=\"_parent\"><img src=\"https://colab.research.google.com/assets/colab-badge.svg\" alt=\"Open In Colab\"/></a>"
      ]
    },
    {
      "cell_type": "code",
      "execution_count": null,
      "metadata": {
        "colab": {
          "base_uri": "https://localhost:8080/"
        },
        "id": "9pljZ87hilID",
        "outputId": "0490b953-86d9-4a9d-dccd-2082f9a92bbc"
      },
      "outputs": [
        {
          "output_type": "stream",
          "name": "stdout",
          "text": [
            "2\n",
            "2\n"
          ]
        }
      ],
      "source": [
        "'''\n",
        "1.Write a code to get the input in the given format and print the output in the given format\n",
        "\n",
        "Input Description:\n",
        "To take an integer value\n",
        "\n",
        "Output Description:\n",
        "Print the integer value\n",
        "\n",
        "Sample Input :\n",
        "2\n",
        "Sample Output :\n",
        "2\n",
        "'''\n",
        "a=int(input())\n",
        "print(a)"
      ]
    },
    {
      "cell_type": "code",
      "source": [
        "'''\n",
        "2.Write a code to get the input in the given format and print the output in the given format\n",
        "\n",
        "Input Description:\n",
        "A single line contains integers separated by space\n",
        "\n",
        "Output Description:\n",
        "Print the integer list of integers separated by space\n",
        "\n",
        "Sample Input :\n",
        "2 3 4 5 6 7 8\n",
        "Sample Output :\n",
        "2 3 4 5 6 7 8\n",
        "'''\n",
        "a=list(map(int,input().split()))\n",
        "print(*a)"
      ],
      "metadata": {
        "colab": {
          "base_uri": "https://localhost:8080/"
        },
        "id": "k259yFKUmNtp",
        "outputId": "60594f0e-d954-4f5d-e793-6ded1ee21d26"
      },
      "execution_count": null,
      "outputs": [
        {
          "output_type": "stream",
          "name": "stdout",
          "text": [
            "2 3 4 5 6 7 8\n",
            "2 3 4 5 6 7 8\n"
          ]
        }
      ]
    },
    {
      "cell_type": "code",
      "source": [
        "'''\n",
        "3.Write a code to get the input in the given format and print the output in the given format.\n",
        "\n",
        "Input Description:\n",
        "First-line indicates two integers which are the size of array and 'K' value. Second-line indicates an integer contains elements of an array.\n",
        "\n",
        "Output Description:\n",
        "Print the taken input in the same format.\n",
        "\n",
        "Sample Input :\n",
        "5 3\n",
        "1 2 3 4 5\n",
        "Sample Output :\n",
        "5 3\n",
        "1 2 3 4 5\n",
        "'''\n",
        "a=list(map(int,input().split()))\n",
        "b=list(map(int,input().split()))\n",
        "print(*a)\n",
        "print(*b)"
      ],
      "metadata": {
        "colab": {
          "base_uri": "https://localhost:8080/"
        },
        "id": "eNOUHo-Vnotr",
        "outputId": "60cff0b1-0ca7-4537-beb1-c3856691a217"
      },
      "execution_count": null,
      "outputs": [
        {
          "output_type": "stream",
          "name": "stdout",
          "text": [
            "5 3\n",
            "1 2 3 4 5\n",
            "5 3\n",
            "1 2 3 4 5\n"
          ]
        }
      ]
    },
    {
      "cell_type": "code",
      "source": [
        "'''\n",
        "4.Write a code to get the input in the given format and print the output in the given format\n",
        "\n",
        "Input Description:\n",
        "First-line indicates two integers separated by space. Second-line indicates two integers separated by space. Third-line indicates two integers separated by space.\n",
        "\n",
        "Output Description:\n",
        "Print the input in the same format.\n",
        "\n",
        "Sample Input :\n",
        "2 4\n",
        "2 4\n",
        "2 4\n",
        "Sample Output :\n",
        "2 4\n",
        "2 4\n",
        "2 4\n",
        "'''\n",
        "a=list(map(int,input().split()))\n",
        "b=list(map(int,input().split()))\n",
        "c=list(map(int,input().split()))\n",
        "print(*a)\n",
        "print(*b)\n",
        "print(*c)"
      ],
      "metadata": {
        "colab": {
          "base_uri": "https://localhost:8080/"
        },
        "id": "rcvE3ak9oTYr",
        "outputId": "17f21082-4019-4465-ab12-51446f07d89c"
      },
      "execution_count": null,
      "outputs": [
        {
          "output_type": "stream",
          "name": "stdout",
          "text": [
            "2 4\n",
            "2 4\n",
            "2 4\n",
            "2 4\n",
            "2 4\n",
            "2 4\n"
          ]
        }
      ]
    },
    {
      "cell_type": "code",
      "source": [
        "'''\n",
        "5.Write a code to get the input in the given format and print the output in the given format\n",
        "\n",
        "Input Description:\n",
        "Three integers are given in line by line.\n",
        "\n",
        "Output Description:\n",
        "Print the integers in a single line separate by space.\n",
        "\n",
        "Sample Input :\n",
        "2\n",
        "4\n",
        "5\n",
        "Sample Output :\n",
        "2 4 5\n",
        "'''\n",
        "a=int(input())\n",
        "b=int(input())\n",
        "c=int(input())\n",
        "print(a,b,c)"
      ],
      "metadata": {
        "colab": {
          "base_uri": "https://localhost:8080/"
        },
        "id": "WoafKq6touGj",
        "outputId": "4951a079-9c68-475e-d3a7-e6679177e9f0"
      },
      "execution_count": null,
      "outputs": [
        {
          "output_type": "stream",
          "name": "stdout",
          "text": [
            "2\n",
            "4\n",
            "5\n",
            "2 4 5\n"
          ]
        }
      ]
    },
    {
      "cell_type": "code",
      "source": [
        "'''\n",
        "6.Write a code to get the input in the given format and print the output in the given format\n",
        "\n",
        "Input Description:\n",
        "First-line indicates two integers separated by space. Second-line indicates three integers separated by space. Third-line indicates three integers separated by space\n",
        "\n",
        "Output Description:\n",
        "Print the input in the same format.\n",
        "\n",
        "Sample Input :\n",
        "2 5\n",
        "2 5 6\n",
        "2 4 5\n",
        "Sample Output :\n",
        "2 5\n",
        "2 5 6\n",
        "2 4 5\n",
        "'''\n",
        "a=list(map(int,input().split()))\n",
        "b=list(map(int,input().split()))\n",
        "c=list(map(int,input().split()))\n",
        "print(*a)\n",
        "print(*b)\n",
        "print(*c)"
      ],
      "metadata": {
        "colab": {
          "base_uri": "https://localhost:8080/"
        },
        "id": "7RXHHFaOpFQO",
        "outputId": "7452d8ae-18f1-4b8d-e4b9-65c4982f0058"
      },
      "execution_count": null,
      "outputs": [
        {
          "output_type": "stream",
          "name": "stdout",
          "text": [
            "2 5\n",
            "2 5 6\n",
            "2 4 5\n",
            "2 5\n",
            "2 5 6\n",
            "2 4 5\n"
          ]
        }
      ]
    },
    {
      "cell_type": "code",
      "source": [
        "'''\n",
        "7.Write a code to get the input in the given format and print the output in the given format\n",
        "\n",
        "Input Description:\n",
        "A single line contains a string.\n",
        "\n",
        "Output Description:\n",
        "Print the characters in a string separated by space.\n",
        "\n",
        "Sample Input :\n",
        "guvi\n",
        "Sample Output :\n",
        "g u v i\n",
        "'''\n",
        "a=input()\n",
        "b=''\n",
        "for i in range(0,len(a)):\n",
        "  if i==len(a)-1:\n",
        "   b=b+a[i]\n",
        "  else:   \n",
        "   b=b+a[i]+' ' \n",
        "print(b)\n",
        "\n"
      ],
      "metadata": {
        "colab": {
          "base_uri": "https://localhost:8080/"
        },
        "id": "DLu6kegkp1ir",
        "outputId": "cda366ad-c327-4b52-8044-6e92d8b83a80"
      },
      "execution_count": null,
      "outputs": [
        {
          "output_type": "stream",
          "name": "stdout",
          "text": [
            "guvi\n",
            "g u v i\n"
          ]
        }
      ]
    },
    {
      "cell_type": "code",
      "source": [
        "'''\n",
        "8.Write a code to get the input in the given format and print the output in the given format.\n",
        "\n",
        "Input Description:\n",
        "A single line contains three float values separated by space.\n",
        "\n",
        "Output Description:\n",
        "Print the float value separated by line.\n",
        "\n",
        "Sample Input :\n",
        "2.3 4.5 7.8\n",
        "Sample Output :\n",
        "2.3\n",
        "4.5\n",
        "7.8\n",
        "'''\n",
        "n=input().split( )\n",
        "for i in n:\n",
        "  print(float(i))\n",
        "  "
      ],
      "metadata": {
        "colab": {
          "base_uri": "https://localhost:8080/"
        },
        "id": "m8n-iroqqZD_",
        "outputId": "57e87129-014a-4567-b7d5-41c70027c2aa"
      },
      "execution_count": null,
      "outputs": [
        {
          "output_type": "stream",
          "name": "stdout",
          "text": [
            "2.3 4.5 7.8\n",
            "2.3\n",
            "4.5\n",
            "7.8\n"
          ]
        }
      ]
    },
    {
      "cell_type": "code",
      "source": [
        "'''\n",
        "9.Write a code to get the input in the given format and print the output in the given format.\n",
        "\n",
        "Input Description:\n",
        "A single line contains a string.\n",
        "\n",
        "Output Description:\n",
        "Print the characters in a string separated by line.\n",
        "\n",
        "Sample Input :\n",
        "guvigeek\n",
        "Sample Output :\n",
        "g\n",
        "u\n",
        "v\n",
        "i\n",
        "g\n",
        "e\n",
        "e\n",
        "k\n",
        "'''\n",
        "a=input()\n",
        "for i in a:\n",
        "  print(i)"
      ],
      "metadata": {
        "colab": {
          "base_uri": "https://localhost:8080/"
        },
        "id": "GbILInFRqtCr",
        "outputId": "b2b8a5b9-29ab-4591-d965-9bfa0c69b648"
      },
      "execution_count": null,
      "outputs": [
        {
          "output_type": "stream",
          "name": "stdout",
          "text": [
            "guvigeek\n",
            "g\n",
            "u\n",
            "v\n",
            "i\n",
            "g\n",
            "e\n",
            "e\n",
            "k\n"
          ]
        }
      ]
    },
    {
      "cell_type": "code",
      "source": [
        "\n",
        "'''\n",
        "10.Write a code to get the input in the given format and print the output in the given format.\n",
        "\n",
        "Input Description:\n",
        "A single line contains a string.\n",
        "\n",
        "Output Description:\n",
        "Print the characters in a string separated by comma.\n",
        "\n",
        "Sample Input :\n",
        "guvi\n",
        "Sample Output :\n",
        "g,u,v,i\n",
        "'''\n",
        "a=input()\n",
        "b=''\n",
        "for i in range(0,len(a)):\n",
        "  if i==len(a)-1:\n",
        "    b=b+a[i]\n",
        "  else:\n",
        "    b=b+a[i]+','\n",
        "print(b)"
      ],
      "metadata": {
        "colab": {
          "base_uri": "https://localhost:8080/"
        },
        "id": "K50iMV-nq6-N",
        "outputId": "0b3f7df2-b990-43ff-aa25-623847edd3b5"
      },
      "execution_count": null,
      "outputs": [
        {
          "output_type": "stream",
          "name": "stdout",
          "text": [
            "guvi\n",
            "g,u,v,i\n"
          ]
        }
      ]
    }
  ]
}