{
  "nbformat": 4,
  "nbformat_minor": 0,
  "metadata": {
    "colab": {
      "provenance": [],
      "authorship_tag": "ABX9TyOA5GguT9Nm4s0S7sgMA1Sg",
      "include_colab_link": true
    },
    "kernelspec": {
      "name": "python3",
      "display_name": "Python 3"
    },
    "language_info": {
      "name": "python"
    }
  },
  "cells": [
    {
      "cell_type": "markdown",
      "metadata": {
        "id": "view-in-github",
        "colab_type": "text"
      },
      "source": [
        "<a href=\"https://colab.research.google.com/github/sathamhussain7/codekata-problems/blob/main/code_kata_basics.ipynb\" target=\"_parent\"><img src=\"https://colab.research.google.com/assets/colab-badge.svg\" alt=\"Open In Colab\"/></a>"
      ]
    },
    {
      "cell_type": "code",
      "execution_count": null,
      "metadata": {
        "colab": {
          "base_uri": "https://localhost:8080/"
        },
        "id": "0v55W_lrR5qo",
        "outputId": "5d8e681d-29f2-417b-c8c5-10e5b63294f5"
      },
      "outputs": [
        {
          "output_type": "stream",
          "name": "stdout",
          "text": [
            "5\n",
            "1\n",
            "2\n",
            "3\n",
            "4\n",
            "5\n"
          ]
        }
      ],
      "source": [
        "'''\n",
        "1.Write a code to get an integer N and print values from 1 till N in a separate line.\n",
        "\n",
        "Input Description:\n",
        "A single line contains an integer N.\n",
        "\n",
        "Output Description:\n",
        "Print the values from 1 to N in a separate line.\n",
        "\n",
        "Sample Input :\n",
        "5\n",
        "Sample Output :\n",
        "1\n",
        "2\n",
        "3\n",
        "4\n",
        "5\n",
        "'''\n",
        "a=int(input())\n",
        "for i in range(1,a+1):\n",
        "  print(i)"
      ]
    },
    {
      "cell_type": "code",
      "source": [
        "'''\n",
        "2.Write a code to get 2 integers A and N. Print the integer A, N times in separate line.\n",
        "\n",
        "Input Description:\n",
        "First line contains an integer A. Second line contains an Integer N.\n",
        "\n",
        "Output Description:\n",
        "Print the integer A, N times in a separate line.\n",
        "\n",
        "Sample Input :\n",
        "2 3\n",
        "Sample Output :\n",
        "2\n",
        "2\n",
        "2\n",
        "'''\n",
        "a,b=list(map(int,input().split()))\n",
        "for i in range(b):\n",
        "  print(a)"
      ],
      "metadata": {
        "colab": {
          "base_uri": "https://localhost:8080/"
        },
        "id": "l43q36iQSu-X",
        "outputId": "06f91fd7-45b6-43a2-f311-0dcefb9ebb7c"
      },
      "execution_count": null,
      "outputs": [
        {
          "output_type": "stream",
          "name": "stdout",
          "text": [
            "2 3\n",
            "2\n",
            "2\n",
            "2\n"
          ]
        }
      ]
    },
    {
      "cell_type": "code",
      "source": [
        "'''\n",
        "3.Given 2 numbers N and K followed by N elements,print the number of repetition of K otherwise print '-1' if the element not found.\n",
        "Sample Testcase :\n",
        "INPUT\n",
        "6 2\n",
        "1 2 3 5 7 8\n",
        "OUTPUT\n",
        "0\n",
        "'''\n",
        "n,k=list(map(int,input().split()))\n",
        "a=list(map(int,input().split()))\n",
        "c=0\n",
        "for i in a:\n",
        "  if i==k:\n",
        "    c=c+1\n",
        "if c==1:\n",
        "  print(0)\n",
        "elif c>1:\n",
        "  print(c-1)\n",
        "else:\n",
        "  print(-1)"
      ],
      "metadata": {
        "colab": {
          "base_uri": "https://localhost:8080/"
        },
        "id": "5e4QF-O1XMco",
        "outputId": "2b476cb8-21f5-4fe6-c7d6-6045e3d54daa"
      },
      "execution_count": null,
      "outputs": [
        {
          "output_type": "stream",
          "name": "stdout",
          "text": [
            "2 3\n",
            "4 5 6 7\n",
            "-1\n"
          ]
        }
      ]
    },
    {
      "cell_type": "code",
      "source": [
        "'''\n",
        "4.Write a program to print the sum of the first K natural numbers.\n",
        "Input Size : n <= 100000\n",
        "Sample Testcase :\n",
        "INPUT\n",
        "3\n",
        "OUTPUT\n",
        "6\n",
        "'''\n",
        "a=int(input())\n",
        "b=[]\n",
        "for i in range(1,a+1):\n",
        "  b.append(i)\n",
        "print(sum(b))"
      ],
      "metadata": {
        "colab": {
          "base_uri": "https://localhost:8080/"
        },
        "id": "SKINTeC6YHdN",
        "outputId": "662398a3-f182-4c02-88be-f736ed30119e"
      },
      "execution_count": null,
      "outputs": [
        {
          "output_type": "stream",
          "name": "stdout",
          "text": [
            "3\n",
            "6\n"
          ]
        }
      ]
    },
    {
      "cell_type": "code",
      "source": [
        "'''\n",
        "5.Given 2 numbers N,M. Print 'yes' if their product is a perfect square else print 'no'.\n",
        "Sample Testcase :\n",
        "INPUT\n",
        "5 5\n",
        "OUTPUT\n",
        "yes\n",
        "'''\n",
        "a,b=list(map(int,input().split()))\n",
        "c=a*b\n",
        "if c==a**2 and b**2:\n",
        "  print('yes')\n",
        "else:\n",
        "  print('no')"
      ],
      "metadata": {
        "colab": {
          "base_uri": "https://localhost:8080/"
        },
        "id": "zA5-vnYYYfmG",
        "outputId": "423657ae-cd94-468f-f511-83c8dc08a185"
      },
      "execution_count": null,
      "outputs": [
        {
          "output_type": "stream",
          "name": "stdout",
          "text": [
            "5 5\n",
            "yes\n"
          ]
        }
      ]
    },
    {
      "cell_type": "code",
      "source": [
        "'''\n",
        "6.Write a code to get the input and print it 5 times.\n",
        "\n",
        "Input Description:\n",
        "A single line contains an integer N.\n",
        "\n",
        "Output Description:\n",
        "Output contains 5 lines with each line having the value N.\n",
        "\n",
        "Sample Input :\n",
        "4\n",
        "Sample Output :\n",
        "4\n",
        "4\n",
        "4\n",
        "4\n",
        "4\n",
        "'''\n",
        "a=int(input())\n",
        "for i in range(5):\n",
        "  print(a)"
      ],
      "metadata": {
        "colab": {
          "base_uri": "https://localhost:8080/"
        },
        "id": "cRbmSY8Gam-P",
        "outputId": "fde7d257-00cc-40ed-ab7b-a1ecca56818f"
      },
      "execution_count": null,
      "outputs": [
        {
          "output_type": "stream",
          "name": "stdout",
          "text": [
            "4\n",
            "4\n",
            "4\n",
            "4\n",
            "4\n",
            "4\n"
          ]
        }
      ]
    },
    {
      "cell_type": "code",
      "source": [
        "'''\n",
        "7.Given a range of 2 numbers (i.e) L and R count the number of prime numbers in the range (inclusive of L and R ).\n",
        "Input Size : L <= R <= 100000(complexity O(n) read about Sieve of Eratosthenes)\n",
        "Sample Testcase :\n",
        "INPUT\n",
        "2 5\n",
        "OUTPUT\n",
        "3\n",
        "'''\n",
        "a,b=list(map(int,input().split()))\n",
        "c=0\n",
        "for i in range(a,b+1):\n",
        "  for j in range(2,i):\n",
        "    if i%j==0:\n",
        "      break\n",
        "  else:\n",
        "    c=c+1\n",
        "print(c)"
      ],
      "metadata": {
        "colab": {
          "base_uri": "https://localhost:8080/"
        },
        "id": "P_UA4im8bC_j",
        "outputId": "90cf9a14-58bc-4e5b-b47d-451967fa81d9"
      },
      "execution_count": null,
      "outputs": [
        {
          "output_type": "stream",
          "name": "stdout",
          "text": [
            "2 4\n",
            "2\n"
          ]
        }
      ]
    },
    {
      "cell_type": "code",
      "source": [
        "'''\n",
        "8.Write a code to get an integer N and print the values from N to 1.\n",
        "\n",
        "Input Description:\n",
        "A single line contains an integer N.\n",
        "\n",
        "Output Description:\n",
        "Print the values from N to 1 in a separate line.\n",
        "\n",
        "Sample Input :\n",
        "10\n",
        "Sample Output :\n",
        "10\n",
        "9\n",
        "8\n",
        "7\n",
        "6\n",
        "5\n",
        "4\n",
        "3\n",
        "2\n",
        "1\n",
        "'''\n",
        "a=int(input())\n",
        "for i in range(a,0,-1):\n",
        "  print(i)"
      ],
      "metadata": {
        "colab": {
          "base_uri": "https://localhost:8080/"
        },
        "id": "uoSXMXFtbeh7",
        "outputId": "fd146597-15dd-431d-e9b4-b860b5ac29ed"
      },
      "execution_count": null,
      "outputs": [
        {
          "output_type": "stream",
          "name": "stdout",
          "text": [
            "10\n",
            "10\n",
            "9\n",
            "8\n",
            "7\n",
            "6\n",
            "5\n",
            "4\n",
            "3\n",
            "2\n",
            "1\n"
          ]
        }
      ]
    },
    {
      "cell_type": "code",
      "source": [
        "'''\n",
        "9.Given 2 numbers N and M add both the numbers and check whether the sum is odd or even.\n",
        "Sample Testcase :\n",
        "INPUT\n",
        "9 2\n",
        "OUTPUT\n",
        "odd\n",
        "'''\n",
        "a,b=list(map(int,input().split()))\n",
        "c=a+b\n",
        "if c%2==0:\n",
        "  print('even')\n",
        "else:\n",
        "  print('odd')"
      ],
      "metadata": {
        "colab": {
          "base_uri": "https://localhost:8080/"
        },
        "id": "UwTJABKHb4cp",
        "outputId": "806d585c-5709-43c2-9530-4a40ac30e74a"
      },
      "execution_count": null,
      "outputs": [
        {
          "output_type": "stream",
          "name": "stdout",
          "text": [
            "9 2\n",
            "odd\n"
          ]
        }
      ]
    },
    {
      "cell_type": "code",
      "source": [
        "'''\n",
        "10.Given 2 numbers N and K followed by elements of N .Print 'yes' if K exists else print 'no'.\n",
        "Sample Testcase :\n",
        "INPUT\n",
        "4 2\n",
        "1 2 3 3\n",
        "OUTPUT\n",
        "yes\n",
        "'''\n",
        "n,k=list(map(int,input().split()))\n",
        "a=list(map(int,input().split()))\n",
        "c=0\n",
        "for i in a:\n",
        "  if i==k:\n",
        "    c=c+1\n",
        "  else:\n",
        "    c=c\n",
        "if c==0:\n",
        "  print('no')\n",
        "else:\n",
        "  print('yes')"
      ],
      "metadata": {
        "colab": {
          "base_uri": "https://localhost:8080/"
        },
        "id": "4BF9-mJtcUQP",
        "outputId": "e5be93c3-e51a-45aa-a92e-aa0d65cc8849"
      },
      "execution_count": null,
      "outputs": [
        {
          "output_type": "stream",
          "name": "stdout",
          "text": [
            "4 2\n",
            "1 2 3 3\n",
            "yes\n"
          ]
        }
      ]
    },
    {
      "cell_type": "code",
      "source": [
        "'''\n",
        "11.Given 3 numbers N , L and R. Print 'yes' if N is between L and R else print 'no'.\n",
        "Sample Testcase :\n",
        "INPUT\n",
        "3\n",
        "2 6\n",
        "OUTPUT\n",
        "yes\n",
        "'''\n",
        "k=int(input())\n",
        "a,b=list(map(int,input().split()))\n",
        "if k>a and k<b:\n",
        "  print('yes')\n",
        "else:\n",
        "  print('no')"
      ],
      "metadata": {
        "colab": {
          "base_uri": "https://localhost:8080/"
        },
        "id": "mhgQ9p0Rc-Ye",
        "outputId": "fed3f52c-ea51-4d10-9f45-9a5b815f30b2"
      },
      "execution_count": null,
      "outputs": [
        {
          "output_type": "stream",
          "name": "stdout",
          "text": [
            "3\n",
            "2 6\n",
            "yes\n"
          ]
        }
      ]
    },
    {
      "cell_type": "code",
      "source": [
        "'''\n",
        "12.Write a code to get a integer n as input and calculate the smallest perfect power of 2 greater than n.\n",
        "\n",
        "Input Description:\n",
        "A single line containing an integer,n.\n",
        "\n",
        "Output Description:\n",
        "Print the smallest perfect power of 2 greater than n.\n",
        "\n",
        "Sample Input :\n",
        "48\n",
        "Sample Output :\n",
        "64\n",
        "'''\n",
        "a=int(input())\n",
        "b=[]\n",
        "for i in range(1,10):\n",
        "  c=2**i\n",
        "  b.append(c)\n",
        "d=[]\n",
        "for j in b:\n",
        "  if j>a:\n",
        "    d.append(j)\n",
        "print(min(d))"
      ],
      "metadata": {
        "colab": {
          "base_uri": "https://localhost:8080/"
        },
        "id": "vXlVMPHkdpY9",
        "outputId": "0d67562a-f7d8-4366-e834-f7408a25abce"
      },
      "execution_count": null,
      "outputs": [
        {
          "output_type": "stream",
          "name": "stdout",
          "text": [
            "48\n",
            "64\n"
          ]
        }
      ]
    },
    {
      "cell_type": "code",
      "source": [
        "'''\n",
        "13.Write a code to get an integer N and print the even values from 1 till N in a separate line.\n",
        "\n",
        "Input Description:\n",
        "A single line contains an integer N.\n",
        "\n",
        "Output Description:\n",
        "Print the even values from 1 to N in a separate line.\n",
        "\n",
        "Sample Input :\n",
        "6\n",
        "Sample Output :\n",
        "2\n",
        "4\n",
        "6\n",
        "'''\n",
        "a=int(input())\n",
        "for i in range(1,(a+1)):\n",
        "  if i%2==0:\n",
        "    print(i)"
      ],
      "metadata": {
        "colab": {
          "base_uri": "https://localhost:8080/"
        },
        "id": "4iCL9Q5fd79K",
        "outputId": "f9bccec2-3d90-4119-818f-2adae81a1e4f"
      },
      "execution_count": null,
      "outputs": [
        {
          "output_type": "stream",
          "name": "stdout",
          "text": [
            "6\n",
            "2\n",
            "4\n",
            "6\n"
          ]
        }
      ]
    },
    {
      "cell_type": "code",
      "source": [
        "'''\n",
        "14.Write a code to get an integer N and print the digits of the integer.\n",
        "\n",
        "Input Description:\n",
        "A single line contains an integer N.\n",
        "\n",
        "Output Description:\n",
        "Print the digits of the integer in a single line separated by space,\n",
        "\n",
        "Sample Input :\n",
        "348\n",
        "Sample Output :\n",
        "3 4 8\n",
        "'''\n",
        "a=list(map(int,input()))\n",
        "print(a)"
      ],
      "metadata": {
        "colab": {
          "base_uri": "https://localhost:8080/"
        },
        "id": "naUfltPGeLZe",
        "outputId": "f77453cb-1711-40f5-f1f5-b03d2fafde3d"
      },
      "execution_count": null,
      "outputs": [
        {
          "output_type": "stream",
          "name": "stdout",
          "text": [
            "348\n",
            "[3, 4, 8]\n"
          ]
        }
      ]
    },
    {
      "cell_type": "code",
      "source": [
        "'''\n",
        "15.Given a number N, print 'yes' if it is composite else print 'no'.\n",
        "Sample Testcase :\n",
        "INPUT\n",
        "123\n",
        "OUTPUT\n",
        "yes\n",
        "'''\n",
        "a=int(input())\n",
        "b=0\n",
        "for i in range(2,a+1):\n",
        "  if a%i==0:\n",
        "    print(i)\n",
        "    b=b+1\n",
        "if b>1:\n",
        "  print('yes')\n",
        "else:\n",
        "  print('no')"
      ],
      "metadata": {
        "colab": {
          "base_uri": "https://localhost:8080/"
        },
        "id": "g5Ekzf88e75U",
        "outputId": "6d353023-9c54-4675-d971-d325a3163d7d"
      },
      "execution_count": null,
      "outputs": [
        {
          "output_type": "stream",
          "name": "stdout",
          "text": [
            "123\n",
            "3\n",
            "41\n",
            "123\n",
            "yes\n"
          ]
        }
      ]
    },
    {
      "cell_type": "code",
      "source": [
        "'''\n",
        "17.Given 3 numbers A,B,C print 'yes' if they can form the sides of a scalene triangle else print 'no'.\n",
        "Input Size : A,B,C <= 100000\n",
        "Sample Testcase :\n",
        "INPUT\n",
        "3 4 5\n",
        "OUTPUT\n",
        "yes\n",
        "'''\n",
        "a,b,c=list(map(int,input().split(' ')))\n",
        "if a!=b and a!=c and b!=c:\n",
        "  print('yes')\n",
        "else:\n",
        "  print('no')"
      ],
      "metadata": {
        "colab": {
          "base_uri": "https://localhost:8080/"
        },
        "id": "j31T6VZEhJyo",
        "outputId": "901114d2-ae21-472f-fe52-0d6d4bb4afc1"
      },
      "execution_count": null,
      "outputs": [
        {
          "output_type": "stream",
          "name": "stdout",
          "text": [
            "3 4 5\n",
            "yes\n"
          ]
        }
      ]
    },
    {
      "cell_type": "code",
      "source": [
        "'''\n",
        "18.Given 3 numbers A,B,C process and print 'yes' if they can form the sides of a triangle otherwise print 'no'.\n",
        "Input Size : A,B,C <= 100000\n",
        "Sample Testcase :\n",
        "INPUT\n",
        "3 4 5\n",
        "OUTPUT\n",
        "yes\n",
        "'''\n",
        "a,b,c=list(map(int,input().split(' ')))\n",
        "if a>1 and b>1 and c>1:\n",
        "  print('yes')\n",
        "else:\n",
        "  print('no')"
      ],
      "metadata": {
        "colab": {
          "base_uri": "https://localhost:8080/"
        },
        "id": "XNlg_szZhXx2",
        "outputId": "7c8f4ed0-645c-4dc5-89c9-b865fa0ba2e9"
      },
      "execution_count": null,
      "outputs": [
        {
          "output_type": "stream",
          "name": "stdout",
          "text": [
            "2 3 4\n",
            "yes\n"
          ]
        }
      ]
    },
    {
      "cell_type": "code",
      "source": [
        "'''\n",
        "21.Given base(B) and height(H) of a triangle find its area.\n",
        "Input Size : N <= 1000000\n",
        "Sample Testcase :\n",
        "INPUT\n",
        "2 4\n",
        "OUTPUT\n",
        "4\n",
        "'''\n",
        "b,h=list(map(int,input().split(' ')))\n",
        "print(int(1/2*(b*h)))"
      ],
      "metadata": {
        "colab": {
          "base_uri": "https://localhost:8080/"
        },
        "id": "n8hFD_RdhlXt",
        "outputId": "11a6b827-561f-4cca-a6bf-a14aeda3350f"
      },
      "execution_count": null,
      "outputs": [
        {
          "output_type": "stream",
          "name": "stdout",
          "text": [
            "2 4\n",
            "4\n"
          ]
        }
      ]
    },
    {
      "cell_type": "code",
      "source": [
        "'''\n",
        "22.Write a code to get an integer N and print the sum of  values from 1 to N.\n",
        "\n",
        "Input Description:\n",
        "A single line contains an integer N.\n",
        "\n",
        "Output Description:\n",
        "Print the sum of values from 1 to N.\n",
        "\n",
        "Sample Input :\n",
        "10\n",
        "Sample Output :\n",
        "55\n",
        "'''\n",
        "a=int(input())\n",
        "d=[]\n",
        "for i in range(1,a+1):\n",
        "  d.append(i)\n",
        "print(sum(d))"
      ],
      "metadata": {
        "colab": {
          "base_uri": "https://localhost:8080/"
        },
        "id": "yrbpI3Klh4OW",
        "outputId": "e674f66b-3f57-4944-9096-063794b5d7d7"
      },
      "execution_count": null,
      "outputs": [
        {
          "output_type": "stream",
          "name": "stdout",
          "text": [
            "10\n",
            "55\n"
          ]
        }
      ]
    },
    {
      "cell_type": "code",
      "source": [
        "'''\n",
        "23.Write a code get an integer number as input and print the sum of the digits.\n",
        "\n",
        "Input Description:\n",
        "A single line containing an integer.\n",
        "\n",
        "Output Description:\n",
        "Print the sum of the digits of the integer.\n",
        "\n",
        "Sample Input :\n",
        "124\n",
        "Sample Output :\n",
        "7\n",
        "'''\n",
        "a=list(map(int,input()))\n",
        "print(sum(a))"
      ],
      "metadata": {
        "colab": {
          "base_uri": "https://localhost:8080/"
        },
        "id": "rEij3RbmiCpz",
        "outputId": "b3ac41ce-2256-45bb-a426-77425b163434"
      },
      "execution_count": null,
      "outputs": [
        {
          "output_type": "stream",
          "name": "stdout",
          "text": [
            "124\n",
            "7\n"
          ]
        }
      ]
    },
    {
      "cell_type": "code",
      "source": [
        "'''\n",
        "24.Write a program to get a string as input and reverse the string without using temporary variable.\n",
        "\n",
        "Input Description:\n",
        "A single line containing a string.\n",
        "\n",
        "Output Description:\n",
        "Print the reversed string.\n",
        "\n",
        "Sample Input :\n",
        "GUVI\n",
        "Sample Output :\n",
        "IVUG\n",
        "'''\n",
        "a=input()\n",
        "print(a[::-1])"
      ],
      "metadata": {
        "colab": {
          "base_uri": "https://localhost:8080/"
        },
        "id": "jxsoD5cxiLw-",
        "outputId": "95608db5-2fdf-43a4-fa4f-c8068ff02ed2"
      },
      "execution_count": null,
      "outputs": [
        {
          "output_type": "stream",
          "name": "stdout",
          "text": [
            "satham\n",
            "mahtas\n"
          ]
        }
      ]
    },
    {
      "cell_type": "code",
      "source": [
        "'''\n",
        "25.Given 2 numbers N,M find the GCD of N and M.If it cannot be found for given number(s) then print -1\n",
        "Sample Testcase :\n",
        "INPUT\n",
        "10 5\n",
        "OUTPUT\n",
        "5\n",
        "'''\n",
        "a,b=list(map(int,input().split()))\n",
        "c=abs(a)\n",
        "d=abs(b)\n",
        "if c>d:\n",
        "   s=c\n",
        "else:\n",
        "   s=d\n",
        "\n",
        "k=[]\n",
        "for i in range(1,s+1):\n",
        " if c%i==0 and d%i==0:\n",
        "    k.append(i)\n",
        "if c==0 or d==0 or len(k)==0:\n",
        "  print(-1)\n",
        "\n",
        "elif len(k)>0:\n",
        "  print(max(k))"
      ],
      "metadata": {
        "colab": {
          "base_uri": "https://localhost:8080/"
        },
        "id": "phwyoOVBidYW",
        "outputId": "af75b96c-b929-4efe-f21e-4874775d1d2e"
      },
      "execution_count": null,
      "outputs": [
        {
          "output_type": "stream",
          "name": "stdout",
          "text": [
            "10 5\n",
            "5\n"
          ]
        }
      ]
    },
    {
      "cell_type": "code",
      "source": [
        "'''\n",
        "26.Write a code to get 2 integers as input and find the HCF of the 2 integer without using recursion or Euclidean algorithm.\n",
        "\n",
        "Input Description:\n",
        "A single line containing 2 integers separated by space.\n",
        "\n",
        "Output Description:\n",
        "Print the HCF of the integers.\n",
        "\n",
        "Sample Input :\n",
        "2 3\n",
        "Sample Output :\n",
        "1\n",
        "'''\n",
        "a,b=list(map(int,input().split()))\n",
        "if a>b:\n",
        "  s=b\n",
        "else:\n",
        "    s=a\n",
        "    c=[]\n",
        "    for i in range(1,s+1):\n",
        "      if a%i==0 and b%i==0:\n",
        "       c.append(i)\n",
        "print(max(c))"
      ],
      "metadata": {
        "colab": {
          "base_uri": "https://localhost:8080/"
        },
        "id": "truoK8vxi5CL",
        "outputId": "1f8a5771-95fd-4798-f63a-2e09e29fec5b"
      },
      "execution_count": null,
      "outputs": [
        {
          "output_type": "stream",
          "name": "stdout",
          "text": [
            "3 9\n",
            "3\n"
          ]
        }
      ]
    },
    {
      "cell_type": "code",
      "source": [
        "'''\n",
        "28.Given a number N, print the Bitwise NOT of that number.\n",
        "Input Size : 1 <= N <= 10000\n",
        "Sample Testcase :\n",
        "INPUT\n",
        "5\n",
        "OUTPUT\n",
        "-6\n",
        "'''\n",
        "a=int(input())\n",
        "print(~a)"
      ],
      "metadata": {
        "colab": {
          "base_uri": "https://localhost:8080/"
        },
        "id": "9b7DfdCFjPDB",
        "outputId": "b95f2f43-151a-40b3-9b5f-56e6a9bf7eae"
      },
      "execution_count": null,
      "outputs": [
        {
          "output_type": "stream",
          "name": "stdout",
          "text": [
            "5\n",
            "-6\n"
          ]
        }
      ]
    },
    {
      "cell_type": "code",
      "source": [
        "'''\n",
        "29.Given 3 numbers A,B,C print 'yes' if they can form the sides of a right angled triangle,otherwise 'no'.\n",
        "Input Size : A,B,C <= 100000\n",
        "Sample Testcase :\n",
        "INPUT\n",
        "3 4 5\n",
        "OUTPUT\n",
        "yes\n",
        "'''\n",
        "a,b,c=list(map(int,input().split(' ')))\n",
        "if c**2==a**2+b**2:\n",
        "  print('yes')\n",
        "else:\n",
        "  print('no')"
      ],
      "metadata": {
        "colab": {
          "base_uri": "https://localhost:8080/"
        },
        "id": "aRcv0odUjb3x",
        "outputId": "76d7126a-9654-4c53-e56c-aabb97a76861"
      },
      "execution_count": null,
      "outputs": [
        {
          "output_type": "stream",
          "name": "stdout",
          "text": [
            "3 4 5\n",
            "yes\n"
          ]
        }
      ]
    },
    {
      "cell_type": "code",
      "source": [
        "'''\n",
        "30.Kabali is a brave warrior who with his group of young ninjas moves from one place to another to fight against his opponents. Before Fighting he just calculates one thing, the difference between his ninja number and the opponent's ninja number. From this difference he decides whether to fight or not. Kabali's ninja number is never greater than his opponent.\n",
        "Input\n",
        "The input contains two numbers in every line. These two numbers in each line denotes the number ninjas in Kabali's clan and his opponent's clan . print the absolute difference of number of ninjas between Kabali's clan and his opponent's clan. Each output should be in seperate line.\n",
        "Sample Testcase :\n",
        "INPUT\n",
        "100 200\n",
        "OUTPUT\n",
        "100\n",
        "'''\n",
        "a,b=list(map(int,input().split(' ')))\n",
        "print(b-a)"
      ],
      "metadata": {
        "colab": {
          "base_uri": "https://localhost:8080/"
        },
        "id": "ERex0ydsjllV",
        "outputId": "0428b8b6-d0f4-4e59-9510-ab6c9fe02844"
      },
      "execution_count": null,
      "outputs": [
        {
          "output_type": "stream",
          "name": "stdout",
          "text": [
            "100 200\n",
            "100\n"
          ]
        }
      ]
    },
    {
      "cell_type": "code",
      "source": [
        "'''\n",
        "31.Write a code get an integer number as input and print the odd and even digits of the number separately.\n",
        "\n",
        "Input Description:\n",
        "A single line containing an integer.\n",
        "\n",
        "Output Description:\n",
        "Print the even and odd integers of the integer in a separate line.\n",
        "\n",
        "Sample Input :\n",
        "1234\n",
        "Sample Output :\n",
        "2 4\n",
        "1 3\n",
        "'''\n",
        "a=list(map(int,input()))\n",
        "b=[]\n",
        "c=[]\n",
        "for i in a:\n",
        "  if i%2==0:\n",
        "    b.append(i)\n",
        "  else:\n",
        "      c.append(i)\n",
        "d=sorted(b)\n",
        "e=sorted(c)\n",
        "print(*d)\n",
        "print(*e)"
      ],
      "metadata": {
        "colab": {
          "base_uri": "https://localhost:8080/"
        },
        "id": "HXuC_31Wj3uc",
        "outputId": "3410d184-fd84-4ed1-eb68-667a177bb675"
      },
      "execution_count": null,
      "outputs": [
        {
          "output_type": "stream",
          "name": "stdout",
          "text": [
            "1234\n",
            "2 4\n",
            "1 3\n"
          ]
        }
      ]
    },
    {
      "cell_type": "code",
      "source": [
        "'''\n",
        "32.Given a number N followed by N numbers.Find the smallest number and largest number and print both the indices(1 based indexing).\n",
        "Input Size : N <= 100000\n",
        "Sample Testcase :\n",
        "INPUT\n",
        "5\n",
        "1 2 3 4 5\n",
        "OUTPUT\n",
        "1 5\n",
        "'''\n",
        "n=int(input())\n",
        "a=list(map(int,input().split()))\n",
        "\n",
        "b=max(a)\n",
        "c=a.index(b)\n",
        "d=min(a)\n",
        "e=a.index(d)\n",
        "print(e+1,c+1)"
      ],
      "metadata": {
        "colab": {
          "base_uri": "https://localhost:8080/"
        },
        "id": "17upjwBakOwK",
        "outputId": "65b54d6b-5c53-4576-cef7-eecfddbf42f6"
      },
      "execution_count": null,
      "outputs": [
        {
          "output_type": "stream",
          "name": "stdout",
          "text": [
            "5\n",
            "1 2 3 4 5\n",
            "1 5\n"
          ]
        }
      ]
    },
    {
      "cell_type": "code",
      "source": [
        "'''\n",
        "34.Find the minimum among 10 numbers.\n",
        "Sample Testcase :\n",
        "INPUT\n",
        "5 4 3 2 1 7 6 10 8 9\n",
        "OUTPUT\n",
        "1\n",
        "'''\n",
        "l=list(map(int,input().split(' ')))\n",
        "print(min(l))"
      ],
      "metadata": {
        "colab": {
          "base_uri": "https://localhost:8080/"
        },
        "id": "v_3sX55KkZsj",
        "outputId": "5c59c199-8db8-4c25-9c68-7990f0c5ca13"
      },
      "execution_count": null,
      "outputs": [
        {
          "output_type": "stream",
          "name": "stdout",
          "text": [
            "4 5 6 7 3\n",
            "3\n"
          ]
        }
      ]
    },
    {
      "cell_type": "code",
      "source": [
        "'''\n",
        "35.Check whether the given 4 points form a square or not.\n",
        "Example:\n",
        "INPUT\n",
        "10 10\n",
        "10 20\n",
        "20 20\n",
        "20 10\n",
        "OUTPUT\n",
        "yes\n",
        "'''\n",
        "a1,a2=list(map(int,input().split(' ')))\n",
        "b1,b2=list(map(int,input().split(' ')))\n",
        "c1,c2=list(map(int,input().split(' ')))\n",
        "d1,d2=list(map(int,input().split(' ')))\n",
        "length_ac=((c1-a1)**2+(c2-a2)**2)**0.5\n",
        "length_bd=((d1-b1)**2+(d2-b2)**2)**0.5\n",
        "if length_ac==length_bd:\n",
        "  print('yes')\n",
        "else:\n",
        "  print('no')"
      ],
      "metadata": {
        "colab": {
          "base_uri": "https://localhost:8080/"
        },
        "id": "g3hMALJokxKH",
        "outputId": "bbcf6355-26ab-49a7-b1b9-79124c658539"
      },
      "execution_count": null,
      "outputs": [
        {
          "output_type": "stream",
          "name": "stdout",
          "text": [
            "10 10\n",
            "10 20\n",
            "20 20\n",
            "20 10\n",
            "yes\n"
          ]
        }
      ]
    },
    {
      "cell_type": "code",
      "source": [
        "'''\n",
        "38.The Romans have attacked again. This time they are much more than the Persians but Shapur is ready to defeat them. He says: 'A lion is never afraid of a hundred sheep'.\n",
        "\n",
        "Nevertheless Shapur has to find weaknesses in the Roman army to defeat them. So he gives the army a weakness number.\n",
        "\n",
        "In Shapur's opinion the weakness of an army is equal to the number of triplets i, j, k such that i < j < k and ai > aj > ak where ax is the power of man standing at position x. The Roman army has one special trait — powers of all the people in it are distinct.\n",
        "\n",
        "Help Shapur find out how weak the Romans are.\n",
        "\n",
        "The first line of input contains a single number n, the number of men in Roman army. Next line contains n different positive integers powers of men in the Roman army.\n",
        "Input Size : N<=100000\n",
        "Example:\n",
        "INPUT\n",
        "3\n",
        "3 2 1\n",
        "OUTPUT\n",
        "1\n",
        "'''\n",
        "a=int(input())\n",
        "b=list(map(int,input().split()))\n",
        "if b==sorted(b, reverse=True):\n",
        " print(1)\n",
        "else:\n",
        "  print(0)"
      ],
      "metadata": {
        "colab": {
          "base_uri": "https://localhost:8080/"
        },
        "id": "O3QP-m44lMyQ",
        "outputId": "b6d535fb-04fa-4766-bde2-57c2f45f2111"
      },
      "execution_count": null,
      "outputs": [
        {
          "output_type": "stream",
          "name": "stdout",
          "text": [
            "3\n",
            "3 2 1\n",
            "1\n"
          ]
        }
      ]
    },
    {
      "cell_type": "code",
      "source": [
        "'''\n",
        "39.Given a string S consisting of 2 words reverse the order of two words .\n",
        "Input Size : |S| <= 10000000\n",
        "Sample Testcase :\n",
        "INPUT\n",
        "hello world\n",
        "OUTPUT\n",
        "world hello\n",
        "'''\n",
        "a=list(map(str,input().split()))\n",
        "b=(a[::-1])\n",
        "print(*b)"
      ],
      "metadata": {
        "colab": {
          "base_uri": "https://localhost:8080/"
        },
        "id": "lO1mXvsrlgOK",
        "outputId": "93442119-6de7-4433-9969-c11c56042e8f"
      },
      "execution_count": null,
      "outputs": [
        {
          "output_type": "stream",
          "name": "stdout",
          "text": [
            "satham hussain\n",
            "hussain satham\n"
          ]
        }
      ]
    },
    {
      "cell_type": "code",
      "source": [
        "'''\n",
        "40.Given numbers A,B find A^B.\n",
        "Input Size : 1 <= A <= 5 <= B <= 50\n",
        "Sample Testcase :\n",
        "INPUT\n",
        "3 4\n",
        "OUTPUT\n",
        "81\n",
        "'''\n",
        "b,h=list(map(int,input().split(' ')))\n",
        "print(b**h)\n"
      ],
      "metadata": {
        "colab": {
          "base_uri": "https://localhost:8080/"
        },
        "id": "4RR0TMujluoJ",
        "outputId": "8fd12895-6546-4032-d4f5-65f9d5e657df"
      },
      "execution_count": null,
      "outputs": [
        {
          "output_type": "stream",
          "name": "stdout",
          "text": [
            "3 4\n",
            "81\n"
          ]
        }
      ]
    },
    {
      "cell_type": "code",
      "source": [
        "'''\n",
        "41.Write a code to get 2 integers as input and add the integers without any carry.\n",
        "\n",
        "Input Description:\n",
        "A single line containing 2 integers.\n",
        "\n",
        "Output Description:\n",
        "Print sum of the 2 integers without carry\n",
        "\n",
        "Sample Input :\n",
        "44 66\n",
        "Sample Output :\n",
        "0\n",
        "'''\n",
        "n=input().split()\n",
        "a=n[0]\n",
        "b=n[1]\n",
        "a1=int(a[0])\n",
        "a2=int(a[1])\n",
        "b1=int(b[0])\n",
        "b2=int(b[1])\n",
        "c1=str(a1+b1)\n",
        "c2=str(a2+b2)\n",
        "d1=int(c1[-1])\n",
        "d2=int(c2[-1])\n",
        "if d1>0 or d2>0:\n",
        "  print(c1[-1]+c2[-1])\n",
        "else:\n",
        "  print(d1+d2)"
      ],
      "metadata": {
        "colab": {
          "base_uri": "https://localhost:8080/"
        },
        "id": "tAN36UkSmFRN",
        "outputId": "c0b759f9-fa75-406b-c4d5-0876eb4fa6a2"
      },
      "execution_count": null,
      "outputs": [
        {
          "output_type": "stream",
          "name": "stdout",
          "text": [
            "44 66\n",
            "0\n"
          ]
        }
      ]
    }
  ]
}