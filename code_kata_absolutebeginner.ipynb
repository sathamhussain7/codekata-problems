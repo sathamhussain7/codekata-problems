{
  "nbformat": 4,
  "nbformat_minor": 0,
  "metadata": {
    "colab": {
      "provenance": [],
      "authorship_tag": "ABX9TyPokxgd6axNulMh5TOOSahe",
      "include_colab_link": true
    },
    "kernelspec": {
      "name": "python3",
      "display_name": "Python 3"
    },
    "language_info": {
      "name": "python"
    }
  },
  "cells": [
    {
      "cell_type": "markdown",
      "metadata": {
        "id": "view-in-github",
        "colab_type": "text"
      },
      "source": [
        "<a href=\"https://colab.research.google.com/github/sathamhussain7/codekata-problems/blob/main/code_kata_absolutebeginner.ipynb\" target=\"_parent\"><img src=\"https://colab.research.google.com/assets/colab-badge.svg\" alt=\"Open In Colab\"/></a>"
      ]
    },
    {
      "cell_type": "code",
      "execution_count": null,
      "metadata": {
        "colab": {
          "base_uri": "https://localhost:8080/"
        },
        "id": "NRcoECMmsyNy",
        "outputId": "7240dacf-1678-425b-b8b6-e24a0bf8a981"
      },
      "outputs": [
        {
          "output_type": "stream",
          "name": "stdout",
          "text": [
            "1\n",
            "1\n",
            "2\n"
          ]
        }
      ],
      "source": [
        "'''\n",
        "1.You are given Two Numbers, A and B. If C = A + B. Find C.\n",
        "\n",
        "Note: Round off the output to a single decimal place.\n",
        "\n",
        "Input Description:\n",
        "You are provided with two numbers A and B.\n",
        "\n",
        "Output Description:\n",
        "Find the sum of the two numbers (A + B)\n",
        "\n",
        "Sample Input :\n",
        "1\n",
        "1\n",
        "Sample Output :\n",
        "2\n",
        "'''\n",
        "a=int(input())\n",
        "b=int(input())\n",
        "print(a+b)"
      ]
    },
    {
      "cell_type": "code",
      "source": [
        "'''\n",
        "2.You are given with a number \"N\", find its cube.\n",
        "\n",
        "Input Description:\n",
        "A positive integer is provided.\n",
        "\n",
        "Output Description:\n",
        "Find the cube of the number.\n",
        "\n",
        "Sample Input :\n",
        "2\n",
        "Sample Output :\n",
        "8\n",
        "'''\n",
        "a=int(input())\n",
        "print(a**3)"
      ],
      "metadata": {
        "colab": {
          "base_uri": "https://localhost:8080/"
        },
        "id": "uxnnAB2XtWAT",
        "outputId": "1cc92a33-dad9-4500-a81c-4b9ffdd4cffd"
      },
      "execution_count": null,
      "outputs": [
        {
          "output_type": "stream",
          "name": "stdout",
          "text": [
            "2\n",
            "8\n"
          ]
        }
      ]
    },
    {
      "cell_type": "code",
      "source": [
        "'''\n",
        "3.You are provided with a number check whether its odd or even. \n",
        "\n",
        "Print \"Odd\" or \"Even\" for the corresponding cases.\n",
        "\n",
        "Note: In case of a decimal, Round off to nearest integer and then find the output. Incase the input is zero, print \"Zero\".\n",
        "\n",
        "Input Description:\n",
        "A number is provided as the input.\n",
        "\n",
        "Output Description:\n",
        "Find out whether the number is odd or even. Print \"Odd\" or \"Even\" for the corresponding cases. Note: In case of a decimal, Round off to nearest integer and then find the output. In case the input is zero, print \"Zero\".\n",
        "\n",
        "Sample Input :\n",
        "2\n",
        "Sample Output :\n",
        "Even\n",
        "'''\n",
        "a=int(input())\n",
        "if a%2==0:\n",
        "  print('Even')\n",
        "else:\n",
        "  print('Odd')"
      ],
      "metadata": {
        "colab": {
          "base_uri": "https://localhost:8080/"
        },
        "id": "dI96KtqHtnel",
        "outputId": "efb3075b-847e-46fa-f1bb-5c5435379ca7"
      },
      "execution_count": null,
      "outputs": [
        {
          "output_type": "stream",
          "name": "stdout",
          "text": [
            "2\n",
            "Even\n"
          ]
        }
      ]
    },
    {
      "cell_type": "code",
      "source": [
        "'''\n",
        "4.You are given with a number A i.e. the temperature in Celcius. Write a program to convert this into Fahrenheit. \n",
        "\n",
        "Note: In case of decimal values, round-off to two decimal places.\n",
        "\n",
        "Input Description:\n",
        "A number is provided in Celcius as the input of the program.\n",
        "\n",
        "Output Description:\n",
        "The output shall be the temperature converted into Fahrenheit corresponding to the input value print up to two decimal places and round off if required.\n",
        "\n",
        "Sample Input :\n",
        "12\n",
        "Sample Output :\n",
        "53.60\n",
        "'''\n",
        "a=int(input())\n",
        "b=(a*float(1.8))+int(32)\n",
        "print (format(b,'.2f'))"
      ],
      "metadata": {
        "colab": {
          "base_uri": "https://localhost:8080/"
        },
        "id": "sW7_D1HruBIA",
        "outputId": "6721d800-5585-4c18-fba1-480645a4ab7a"
      },
      "execution_count": null,
      "outputs": [
        {
          "output_type": "stream",
          "name": "stdout",
          "text": [
            "12\n",
            "53.60\n"
          ]
        }
      ]
    },
    {
      "cell_type": "code",
      "source": [
        "'''\n",
        "5.You are given a number A in Kilometers. Convert this into B: Meters and C: Centi-Metres.\n",
        "\n",
        "Input Description:\n",
        "A number \"A\" representing some distance in kilometer is provided to you as the input.\n",
        "\n",
        "Output Description:\n",
        "Convert and print this value in meters and centimeters.\n",
        "\n",
        "Sample Input :\n",
        "2\n",
        "Sample Output :\n",
        "2000\n",
        "200000\n",
        "'''\n",
        "a=int(input())\n",
        "print(a*1000)\n",
        "print(a*100000)"
      ],
      "metadata": {
        "colab": {
          "base_uri": "https://localhost:8080/"
        },
        "id": "tHq6htYmv6pv",
        "outputId": "97364cc9-46ae-43db-936c-1ec4f9ec2ce9"
      },
      "execution_count": null,
      "outputs": [
        {
          "output_type": "stream",
          "name": "stdout",
          "text": [
            "2\n",
            "2000\n",
            "200000\n"
          ]
        }
      ]
    },
    {
      "cell_type": "code",
      "source": [
        "'''\n",
        "6.You are given three numbers A, B & C. Print the largest amongst these three numbers.\n",
        "\n",
        "Input Description:\n",
        "Three numbers are provided to you.\n",
        "\n",
        "Output Description:\n",
        "Find and print the largest among the three\n",
        "\n",
        "Sample Input :\n",
        "1\n",
        "2\n",
        "3\n",
        "Sample Output :\n",
        "3\n",
        "'''\n",
        "a=int(input())\n",
        "b=int(input())\n",
        "c=int(input())\n",
        "if (a>b)and(a>c):\n",
        "  print(a)\n",
        "elif (b>a)and(b>c):\n",
        "  print(b)\n",
        "elif (c>a)and(c>b):\n",
        "  print(c)"
      ],
      "metadata": {
        "colab": {
          "base_uri": "https://localhost:8080/"
        },
        "id": "HKTM1h7pwS3r",
        "outputId": "f7573076-0dfa-468e-c623-9dc2ed814f1d"
      },
      "execution_count": null,
      "outputs": [
        {
          "output_type": "stream",
          "name": "stdout",
          "text": [
            "1\n",
            "2\n",
            "3\n",
            "3\n"
          ]
        }
      ]
    },
    {
      "cell_type": "code",
      "source": [
        "'''\n",
        "7.You are provided with the radius of a circle \"A\". Find the length of its circumference.\n",
        "\n",
        "Note: In case the output is coming in decimal, roundoff to 2nd decimal place. In case the input is a negative number, print \"Error\".\n",
        "\n",
        "Input Description:\n",
        "The Radius of a circle is provided as the input of the program.\n",
        "\n",
        "Output Description:\n",
        "Calculate and print the Circumference of the circle corresponding to the input radius up to two decimal places.\n",
        "\n",
        "Sample Input :\n",
        "2\n",
        "Sample Output :\n",
        "12.57\n",
        "'''\n",
        "a=float(input())\n",
        "b=(2*(22/7)*a)\n",
        "print(format(b,'.2f'))"
      ],
      "metadata": {
        "colab": {
          "base_uri": "https://localhost:8080/"
        },
        "id": "fwul6eEJwhhh",
        "outputId": "e5a54156-5d30-4a35-d05f-b25759876213"
      },
      "execution_count": null,
      "outputs": [
        {
          "output_type": "stream",
          "name": "stdout",
          "text": [
            "2\n",
            "12.57\n"
          ]
        }
      ]
    },
    {
      "cell_type": "code",
      "source": [
        "'''\n",
        "8.You are provided with two numbers. Find and print the smaller number.\n",
        "\n",
        "Input Description:\n",
        "You are provided with two numbers as input.\n",
        "\n",
        "Output Description:\n",
        "Print the small number out of the two numbers.\n",
        "\n",
        "Sample Input :\n",
        "23 1\n",
        "Sample Output :\n",
        "1\n",
        "'''\n",
        "a=list(map(int,input().split()))\n",
        "print(min(a))"
      ],
      "metadata": {
        "colab": {
          "base_uri": "https://localhost:8080/"
        },
        "id": "wBBFz2oIxHe0",
        "outputId": "bb8442a4-f848-403a-c945-7bd28dd1034f"
      },
      "execution_count": null,
      "outputs": [
        {
          "output_type": "stream",
          "name": "stdout",
          "text": [
            "23 1\n",
            "1\n"
          ]
        }
      ]
    },
    {
      "cell_type": "code",
      "source": [
        "'''\n",
        "9.You will be provided with a number. Print the number of days in the month corresponding to that number.\n",
        "\n",
        "Note: In case the input is February, print 28 days. If the Input is not in valid range print \"Error\".\n",
        "\n",
        "Input Description:\n",
        "The input is in the form of a number.\n",
        "\n",
        "Output Description:\n",
        "Find the days in the month corresponding to the input number. Print Error if the input is not in a valid range.\n",
        "\n",
        "Sample Input :\n",
        "8\n",
        "Sample Output :\n",
        "31\n",
        "'''\n",
        "n=int(input())\n",
        "a=[1,3,5,7,8,10,12]\n",
        "b=[4,6,9,11]\n",
        "if n in a:\n",
        "  print(31)\n",
        "elif n in b:\n",
        "  print(30)\n",
        "elif n==2:\n",
        "  print(28)\n",
        "else:\n",
        "  print('Error')"
      ],
      "metadata": {
        "colab": {
          "base_uri": "https://localhost:8080/"
        },
        "id": "SSnfKk7SxWmi",
        "outputId": "7d9e6141-7f3e-4cd5-8017-e7fb2208dc84"
      },
      "execution_count": null,
      "outputs": [
        {
          "output_type": "stream",
          "name": "stdout",
          "text": [
            "11\n",
            "30\n"
          ]
        }
      ]
    },
    {
      "cell_type": "code",
      "source": [
        "'''\n",
        "10.Let \"A\"  be a string. Remove all the whitespaces and find it's length.\n",
        "\n",
        "Input Description:\n",
        "A string is provide as an input\n",
        "\n",
        "Output Description:\n",
        "Remove all the whitespaces and then print the length of the remaining string.\n",
        "\n",
        "Sample Input :\n",
        "Lorem Ipsum\n",
        "Sample Output :\n",
        "10\n",
        "'''\n",
        "a=input()\n",
        "a=a.replace(' ','')\n",
        "print(len(a))"
      ],
      "metadata": {
        "colab": {
          "base_uri": "https://localhost:8080/"
        },
        "id": "S2S7UZ4UxnG_",
        "outputId": "936a5f31-d860-4cea-c440-254adfdcbddd"
      },
      "execution_count": null,
      "outputs": [
        {
          "output_type": "stream",
          "name": "stdout",
          "text": [
            "lorem ipsum\n",
            "10\n"
          ]
        }
      ]
    },
    {
      "cell_type": "code",
      "source": [
        "'''\n",
        "11.Print the First 3 multiples of the given number \"N\". (N is a positive integer)\n",
        "\n",
        "Note: print the characters with a single space between them.\n",
        "\n",
        "Input Description:\n",
        "A positive integer is provided to you as an input.\n",
        "\n",
        "Output Description:\n",
        "Print the First 3 multiples of the number with single spaces between them as an output.\n",
        "\n",
        "Sample Input :\n",
        "2\n",
        "Sample Output :\n",
        "2 4 6\n",
        "'''\n",
        "a=int(input())\n",
        "b=[]\n",
        "for i in range(1,4):\n",
        "  i=i*a\n",
        "  b.append(int(i))\n",
        "print(*b)"
      ],
      "metadata": {
        "colab": {
          "base_uri": "https://localhost:8080/"
        },
        "id": "p-oY6rLWyIeo",
        "outputId": "f932b4dd-b765-4f85-9bf3-8f3eacc99e2f"
      },
      "execution_count": null,
      "outputs": [
        {
          "output_type": "stream",
          "name": "stdout",
          "text": [
            "2\n",
            "2 4 6\n"
          ]
        }
      ]
    },
    {
      "cell_type": "code",
      "source": [
        "'''\n",
        "12.You are given with Principle amount($), Interest Rate(%) and Time (years) in that order. Find Simple Interest.\n",
        "\n",
        "Print the output up to two decimal places (Round-off if necessary).\n",
        "\n",
        "(S.I. = P*T*R/100)\n",
        "\n",
        "Input Description:\n",
        "Three values are given to you as the input. these values correspond to Principle amount, Interest Rate and Time in that particular order.\n",
        "\n",
        "Output Description:\n",
        "Find the Simple interest and print it up to two decimal places. Round off if required.\n",
        "\n",
        "Sample Input :\n",
        "1000 2 5\n",
        "Sample Output :\n",
        "100.00\n",
        "'''\n",
        "a=input().split()\n",
        "p=int(a[0])\n",
        "t=float(a[1])\n",
        "r=float(a[2])\n",
        "si=p*t*r/100\n",
        "print(format(si,'.2f'))"
      ],
      "metadata": {
        "colab": {
          "base_uri": "https://localhost:8080/"
        },
        "id": "gwBxVpXQyZ9j",
        "outputId": "6d9718ec-7556-465e-da34-70eaa1ffde92"
      },
      "execution_count": null,
      "outputs": [
        {
          "output_type": "stream",
          "name": "stdout",
          "text": [
            "1000 2 5\n",
            "100.00\n"
          ]
        }
      ]
    },
    {
      "cell_type": "code",
      "source": [
        "'''\n",
        "13.Write a code to get 2 integers A and N. Print the integer A, N times in separate line.\n",
        "\n",
        "Input Description:\n",
        "First line contains an integer A. Second line contains an Integer N.\n",
        "\n",
        "Output Description:\n",
        "Print the integer A, N times in a separate line.\n",
        "\n",
        "Sample Input :\n",
        "2 3\n",
        "Sample Output :\n",
        "2\n",
        "2\n",
        "2\n",
        "'''\n",
        "a,b=list(map(int,input().split()))\n",
        "for i in range(b):\n",
        "  print(a)\n"
      ],
      "metadata": {
        "colab": {
          "base_uri": "https://localhost:8080/"
        },
        "id": "JHwwqaJQyva_",
        "outputId": "c98d5748-55e4-4668-bacd-2583ce7ea46d"
      },
      "execution_count": null,
      "outputs": [
        {
          "output_type": "stream",
          "name": "stdout",
          "text": [
            "2 3\n",
            "2\n",
            "2\n",
            "2\n"
          ]
        }
      ]
    },
    {
      "cell_type": "code",
      "source": [
        "'''\n",
        "14.You are given the coefficients of a quadratic equation in order A, B & C.\n",
        "\n",
        "Where A is the coefficient of X2,  B is the coefficient of X and C is the constant term in the most simplified form.\n",
        "\n",
        "Example: For  X2 + 5X + 6 = 0, you are given the input as: 1 5 6.\n",
        "\n",
        "Write a program to find all of the roots of the quadratic.\n",
        "\n",
        "Note: The output should be up to 2nd decimal place (round off if needed) and in case of a recurring decimal use braces i.e. for eg: 0.33333..... => 0.33.\n",
        "\n",
        "Note: Use Shri Dharacharya's Method to solve i.e. X = {-b + √(b² - 4ac) } / 2a & {-b-√(b² -4ac)} / 2a\n",
        "\n",
        "Input Description:\n",
        "Three numbers corresponding to the coefficients of x(squared), x and constant are given as an input in that particular order\n",
        "\n",
        "Output Description:\n",
        "Print the two values of X after rounding off to 2 decimal places if required.\n",
        "\n",
        "Sample Input :\n",
        "1 5 6\n",
        "Sample Output :\n",
        "-2.00\n",
        "-3.00\n",
        "'''\n",
        "a,b,c=list(map(int,input().split()))\n",
        "x1=((-b)+((b**2)-(4*(a)*(c)))**(0.5))/(2*(a))\n",
        "x2=((-b)-((b**2)-(4*(a)*(c)))**(0.5))/(2*(a))\n",
        "print('%.2f' %x1)\n",
        "print('%.2f' %x2)"
      ],
      "metadata": {
        "colab": {
          "base_uri": "https://localhost:8080/"
        },
        "id": "LD1vv-d8zHb3",
        "outputId": "55d34d61-05bc-407c-c974-cf14a2569cf9"
      },
      "execution_count": null,
      "outputs": [
        {
          "output_type": "stream",
          "name": "stdout",
          "text": [
            "1 5 6\n",
            "-2.00\n",
            "-3.00\n"
          ]
        }
      ]
    },
    {
      "cell_type": "code",
      "source": [
        "'''\n",
        "15.Let \"A\" be a year, write a program to check whether this year is a leap year or not.\n",
        "\n",
        "Print \"Y\" if its a leap year and \"N\" if its a common year.\n",
        "\n",
        "Input Description:\n",
        "A Year is the input in the form of a positive integer.\n",
        "\n",
        "Output Description:\n",
        "Print \"Y\" if its a leap year and \"N\" if its a common year.\n",
        "\n",
        "Sample Input :\n",
        "2020\n",
        "Sample Output :\n",
        "Y\n",
        "'''\n",
        "a=int(input())\n",
        "if a%4==0:\n",
        "  print('Y')\n",
        "else:\n",
        "  print('N')"
      ],
      "metadata": {
        "colab": {
          "base_uri": "https://localhost:8080/"
        },
        "id": "OHqYYz8lzUL8",
        "outputId": "ebad4b9c-4c94-4c77-8902-084449cfe6d4"
      },
      "execution_count": null,
      "outputs": [
        {
          "output_type": "stream",
          "name": "stdout",
          "text": [
            "2020\n",
            "Y\n"
          ]
        }
      ]
    },
    {
      "cell_type": "code",
      "source": [
        "'''\n",
        "16.Write a code to get an integer N and print the even values from 1 till N in a separate line.\n",
        "\n",
        "Input Description:\n",
        "A single line contains an integer N.\n",
        "\n",
        "Output Description:\n",
        "Print the even values from 1 to N in a separate line.\n",
        "\n",
        "Sample Input :\n",
        "6\n",
        "Sample Output :\n",
        "2\n",
        "4\n",
        "6\n",
        "'''\n",
        "a=int(input())\n",
        "for i in range(1,a+1):\n",
        "  if i%2==0:\n",
        "    print(i)"
      ],
      "metadata": {
        "colab": {
          "base_uri": "https://localhost:8080/"
        },
        "id": "wkA5JQ-JzrRl",
        "outputId": "eef7ac2a-a707-4bb6-ab12-41887b27338f"
      },
      "execution_count": null,
      "outputs": [
        {
          "output_type": "stream",
          "name": "stdout",
          "text": [
            "6\n",
            "2\n",
            "4\n",
            "6\n"
          ]
        }
      ]
    },
    {
      "cell_type": "code",
      "source": [
        "'''\n",
        "17.You are provided with a number \"N\", Find the Nth term of the series: 1, 4, 9, 16, 25, 36, 49, 64, 81, .......\n",
        "\n",
        "(Print \"Error\" if N = negative value and 0 if N = 0).\n",
        "\n",
        "Input Description:\n",
        "An integer N is provided to you as the input.\n",
        "\n",
        "Output Description:\n",
        "Find the Nth term in the provided series.\n",
        "\n",
        "Sample Input :\n",
        "18\n",
        "Sample Output :\n",
        "324\n",
        "'''\n",
        "a=int(input())\n",
        "if a<0:\n",
        "  print('Error')\n",
        "elif a==0:\n",
        "  print('0')\n",
        "else:\n",
        "  print(a*a)"
      ],
      "metadata": {
        "colab": {
          "base_uri": "https://localhost:8080/"
        },
        "id": "PnjPJN0B0bSq",
        "outputId": "39d7aadc-f397-4209-9b6a-3ff085bf701b"
      },
      "execution_count": null,
      "outputs": [
        {
          "output_type": "stream",
          "name": "stdout",
          "text": [
            "18\n",
            "324\n"
          ]
        }
      ]
    },
    {
      "cell_type": "code",
      "source": [
        "'''\n",
        "18.Write a code to get the input and print it 5 times.\n",
        "\n",
        "Input Description:\n",
        "A single line contains an integer N.\n",
        "\n",
        "Output Description:\n",
        "Output contains 5 lines with each line having the value N.\n",
        "\n",
        "Sample Input :\n",
        "4\n",
        "Sample Output :\n",
        "4\n",
        "4\n",
        "4\n",
        "4\n",
        "4\n",
        "'''\n",
        "a=int(input())\n",
        "for i in range(5):\n",
        "  print(a)"
      ],
      "metadata": {
        "colab": {
          "base_uri": "https://localhost:8080/"
        },
        "id": "pjoVJ8t_1Ejl",
        "outputId": "85cb087d-f28a-4ace-eb41-c234db4255c8"
      },
      "execution_count": null,
      "outputs": [
        {
          "output_type": "stream",
          "name": "stdout",
          "text": [
            "4\n",
            "4\n",
            "4\n",
            "4\n",
            "4\n",
            "4\n"
          ]
        }
      ]
    },
    {
      "cell_type": "code",
      "source": [
        "'''\n",
        "19.Write a code get an integer number as input and print the sum of the digits.\n",
        "\n",
        "Input Description:\n",
        "A single line containing an integer.\n",
        "\n",
        "Output Description:\n",
        "Print the sum of the digits of the integer.\n",
        "\n",
        "Sample Input :\n",
        "124\n",
        "Sample Output :\n",
        "7\n",
        "'''\n",
        "a=list(map(int,input()))\n",
        "print(sum(a))"
      ],
      "metadata": {
        "colab": {
          "base_uri": "https://localhost:8080/"
        },
        "id": "4a-1-ZqL1dPw",
        "outputId": "7d281bc8-5bbb-4ad0-c493-976921018c50"
      },
      "execution_count": null,
      "outputs": [
        {
          "output_type": "stream",
          "name": "stdout",
          "text": [
            "124\n",
            "7\n"
          ]
        }
      ]
    },
    {
      "cell_type": "code",
      "source": [
        "'''\n",
        "20.Write a code to get an integer N and print values from 1 till N in a separate line.\n",
        "\n",
        "Input Description:\n",
        "A single line contains an integer N.\n",
        "\n",
        "Output Description:\n",
        "Print the values from 1 to N in a separate line.\n",
        "\n",
        "Sample Input :\n",
        "5\n",
        "Sample Output :\n",
        "1\n",
        "2\n",
        "3\n",
        "4\n",
        "5\n",
        "'''\n",
        "a=int(input())\n",
        "for i in range(1,a+1):\n",
        "  print(i)"
      ],
      "metadata": {
        "colab": {
          "base_uri": "https://localhost:8080/"
        },
        "id": "R-eArrKn15CO",
        "outputId": "41848256-9fc0-4493-df9e-aeeffca28932"
      },
      "execution_count": null,
      "outputs": [
        {
          "output_type": "stream",
          "name": "stdout",
          "text": [
            "5\n",
            "1\n",
            "2\n",
            "3\n",
            "4\n",
            "5\n"
          ]
        }
      ]
    },
    {
      "cell_type": "code",
      "source": [
        "'''\n",
        "21.Write a code get an integer number as input and print the odd and even digits of the number separately.\n",
        "\n",
        "Input Description:\n",
        "A single line containing an integer.\n",
        "\n",
        "Output Description:\n",
        "Print the even and odd integers of the integer in a separate line.\n",
        "\n",
        "Sample Input :\n",
        "1234\n",
        "Sample Output :\n",
        "2 4\n",
        "1 3\n",
        "'''\n",
        "a=list(map(int,input()))\n",
        "b=[]\n",
        "c=[]\n",
        "for i in a:\n",
        "  if i%2==0:\n",
        "    b.append(i)\n",
        "  else:\n",
        "    c.append(i)\n",
        "d=sorted(b)\n",
        "e=sorted(c)\n",
        "print(*d)\n",
        "print(*e)"
      ],
      "metadata": {
        "colab": {
          "base_uri": "https://localhost:8080/"
        },
        "id": "7LOeXkfDMz1U",
        "outputId": "53547914-1fd4-4e7e-8bfa-3094505bdb96"
      },
      "execution_count": null,
      "outputs": [
        {
          "output_type": "stream",
          "name": "stdout",
          "text": [
            "233342\n",
            "2 2 4\n",
            "3 3 3\n"
          ]
        }
      ]
    },
    {
      "cell_type": "code",
      "source": [
        "'''\n",
        "22.Using the method of looping, write a program to print the table of 9 till N in the format as follows:\n",
        "(N is input by the user)\n",
        "\n",
        "9 18 27...\n",
        "\n",
        "Print NULL if 0 is input\n",
        "\n",
        "Input Description:\n",
        "A positive integer is provided as an input.\n",
        "\n",
        "Output Description:\n",
        "Print the table of nine with single space between the elements till the number that is input.\n",
        "\n",
        "Sample Input :\n",
        "3\n",
        "Sample Output :\n",
        "9 18 27\n",
        "'''\n",
        "a=int(input())\n",
        "b=[]\n",
        "for i in range(9,(a*9)+1,9):\n",
        "  b.append(i)\n",
        "print(*b)"
      ],
      "metadata": {
        "colab": {
          "base_uri": "https://localhost:8080/"
        },
        "id": "Gbvb3CZcOCAx",
        "outputId": "ee81d045-c7ed-4b4c-87ef-e22ec8dd89d2"
      },
      "execution_count": null,
      "outputs": [
        {
          "output_type": "stream",
          "name": "stdout",
          "text": [
            "3\n",
            "9 18 27\n"
          ]
        }
      ]
    },
    {
      "cell_type": "code",
      "source": [
        "'''\n",
        "23.Write a code to get 2 integers as input and find the HCF of the 2 integer without using recursion or Euclidean algorithm.\n",
        "\n",
        "Input Description:\n",
        "A single line containing 2 integers separated by space.\n",
        "\n",
        "Output Description:\n",
        "Print the HCF of the integers.\n",
        "\n",
        "Sample Input :\n",
        "2 3\n",
        "Sample Output :\n",
        "1\n",
        "'''\n",
        "a,b=list(map(int,input().split()))\n",
        "if a>b:\n",
        "  s=b\n",
        "else:\n",
        "    s=a\n",
        "    c=[]\n",
        "    for i in range(1,s+1):\n",
        "      if a%i==0 and b%i==0:\n",
        "       c.append(i)\n",
        "print(max(c))"
      ],
      "metadata": {
        "colab": {
          "base_uri": "https://localhost:8080/"
        },
        "id": "5UaoVcAtOzqT",
        "outputId": "dfbf2899-b9a0-4e55-caeb-c1ec15ba6495"
      },
      "execution_count": null,
      "outputs": [
        {
          "output_type": "stream",
          "name": "stdout",
          "text": [
            "2 3\n",
            "1\n"
          ]
        }
      ]
    },
    {
      "cell_type": "code",
      "source": [
        "'''\n",
        "24.You are given A = Length of a rectangle & B = breadth of a rectangle. Find its area “C”.\n",
        "\n",
        "(A and B are natural numbers)\n",
        "\n",
        "Input Description:\n",
        "The inputs are two natural numbers representing the length and the breadth of a rectangle.\n",
        "\n",
        "Output Description:\n",
        "Find the area of the rectangle formed by the provided input. Round off the answer to the first decimal place if required.\n",
        "\n",
        "Sample Input :\n",
        "2\n",
        "3\n",
        "Sample Output :\n",
        "6\n",
        "'''\n",
        "a=float(input())\n",
        "b=float(input())\n",
        "c=a*b\n",
        "print('%.1f'%c)"
      ],
      "metadata": {
        "colab": {
          "base_uri": "https://localhost:8080/"
        },
        "id": "t9SI1G5yPBJG",
        "outputId": "dc6a4fe6-bfa8-421e-db2c-eeaa437c74ff"
      },
      "execution_count": null,
      "outputs": [
        {
          "output_type": "stream",
          "name": "stdout",
          "text": [
            "2\n",
            "3\n",
            "6.0\n"
          ]
        }
      ]
    },
    {
      "cell_type": "code",
      "source": [
        "'''\n",
        "25.Write a code to get an integer N and print the sum of  values from 1 to N.\n",
        "\n",
        "Input Description:\n",
        "A single line contains an integer N.\n",
        "\n",
        "Output Description:\n",
        "Print the sum of values from 1 to N.\n",
        "\n",
        "Sample Input :\n",
        "10\n",
        "Sample Output :\n",
        "55\n",
        "'''\n",
        "a=int(input())\n",
        "b=[]\n",
        "for i in range(1,a+1):\n",
        "  b.append(i)\n",
        "print(sum(b))"
      ],
      "metadata": {
        "colab": {
          "base_uri": "https://localhost:8080/"
        },
        "id": "dSQsVR5mPvAm",
        "outputId": "fb0e2529-c385-4946-df1c-13d4c0d2a93c"
      },
      "execution_count": null,
      "outputs": [
        {
          "output_type": "stream",
          "name": "stdout",
          "text": [
            "10\n",
            "55\n"
          ]
        }
      ]
    },
    {
      "cell_type": "code",
      "source": [
        "'''\n",
        "26.You are provided with a number, \"N\". Find its factorial.\n",
        "\n",
        "Input Description:\n",
        "A positive integer is provided as an input.\n",
        "\n",
        "Output Description:\n",
        "Print the factorial of the integer.\n",
        "\n",
        "Sample Input :\n",
        "2\n",
        "Sample Output :\n",
        "2\n",
        "'''\n",
        "a=int(input())\n",
        "b=1\n",
        "for i in range(1,a+1):\n",
        "  b=b*i\n",
        "print(b)"
      ],
      "metadata": {
        "colab": {
          "base_uri": "https://localhost:8080/"
        },
        "id": "WqRvWSvDQHEb",
        "outputId": "4515bb61-a04e-4dfe-f3e3-29b9289032a9"
      },
      "execution_count": null,
      "outputs": [
        {
          "output_type": "stream",
          "name": "stdout",
          "text": [
            "5\n",
            "120\n"
          ]
        }
      ]
    },
    {
      "cell_type": "code",
      "source": [
        "'''\n",
        "27.Write a code to get an integer N and print the values from N to 1.\n",
        "\n",
        "Input Description:\n",
        "A single line contains an integer N.\n",
        "\n",
        "Output Description:\n",
        "Print the values from N to 1 in a separate line.\n",
        "\n",
        "Sample Input :\n",
        "10\n",
        "Sample Output :\n",
        "10\n",
        "9\n",
        "8\n",
        "7\n",
        "6\n",
        "5\n",
        "4\n",
        "3\n",
        "2\n",
        "1\n",
        "'''\n",
        "a=int(input())\n",
        "for i in range(a,0,-1):\n",
        "  print(i)"
      ],
      "metadata": {
        "colab": {
          "base_uri": "https://localhost:8080/"
        },
        "id": "J8v9EskRQd5v",
        "outputId": "2d5551e4-d4b7-470d-8da8-dc7753918a70"
      },
      "execution_count": null,
      "outputs": [
        {
          "output_type": "stream",
          "name": "stdout",
          "text": [
            "10\n",
            "10\n",
            "9\n",
            "8\n",
            "7\n",
            "6\n",
            "5\n",
            "4\n",
            "3\n",
            "2\n",
            "1\n"
          ]
        }
      ]
    },
    {
      "cell_type": "code",
      "source": [
        "'''\n",
        "28.Write a program to get a string as input and reverse the string without using temporary variable.\n",
        "\n",
        "Input Description:\n",
        "A single line containing a string.\n",
        "\n",
        "Output Description:\n",
        "Print the reversed string.\n",
        "\n",
        "Sample Input :\n",
        "GUVI\n",
        "Sample Output :\n",
        "IVUG\n",
        "'''\n",
        "a=input()\n",
        "print(a[::-1])"
      ],
      "metadata": {
        "colab": {
          "base_uri": "https://localhost:8080/"
        },
        "id": "sE849vb7Qv5m",
        "outputId": "42139f96-4b88-4e0d-a42c-c7cb1b518f4b"
      },
      "execution_count": null,
      "outputs": [
        {
          "output_type": "stream",
          "name": "stdout",
          "text": [
            "guvi\n",
            "ivug\n"
          ]
        }
      ]
    },
    {
      "cell_type": "code",
      "source": [
        "'''\n",
        "29.The area of an equilateral triangle is ¼(√3a2) where \"a\" represents a side of the triangle. You are provided with the side \"a\". Find the area of the equilateral triangle.\n",
        "\n",
        "Input Description:\n",
        "The side of an equilateral triangle is provided as the input.\n",
        "\n",
        "Output Description:\n",
        "Find the area of the equilateral triangle and print the answer up to 2 decimal places after rounding off.\n",
        "\n",
        "Sample Input :\n",
        "20\n",
        "Sample Output :\n",
        "173.21\n",
        "'''\n",
        "\n",
        "a=float(input())\n",
        "area=(1/4)*((3)**(0.5)*(a)**2)\n",
        "print('%.2f' %area)\n"
      ],
      "metadata": {
        "colab": {
          "base_uri": "https://localhost:8080/"
        },
        "id": "oux81oWzRBT9",
        "outputId": "593aa99c-21c0-49a3-dc05-c6dd1838d2e0"
      },
      "execution_count": null,
      "outputs": [
        {
          "output_type": "stream",
          "name": "stdout",
          "text": [
            "20\n",
            "173.21\n"
          ]
        }
      ]
    },
    {
      "cell_type": "code",
      "source": [
        "'''\n",
        "30.Write a code to get an integer N and print the digits of the integer.\n",
        "\n",
        "Input Description:\n",
        "A single line contains an integer N.\n",
        "\n",
        "Output Description:\n",
        "Print the digits of the integer in a single line separated by space,\n",
        "\n",
        "Sample Input :\n",
        "348\n",
        "Sample Output :\n",
        "3 4 8\n",
        "'''\n",
        "a=list(map(int,input()))\n",
        "print(*a)"
      ],
      "metadata": {
        "colab": {
          "base_uri": "https://localhost:8080/"
        },
        "id": "1WVxo8__RcnN",
        "outputId": "40f1757e-37d8-4b2d-e2a1-c4ac4065a612"
      },
      "execution_count": null,
      "outputs": [
        {
          "output_type": "stream",
          "name": "stdout",
          "text": [
            "348\n",
            "3 4 8\n"
          ]
        }
      ]
    }
  ]
}